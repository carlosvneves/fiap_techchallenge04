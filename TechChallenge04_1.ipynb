{
 "cells": [
  {
   "cell_type": "markdown",
   "metadata": {
    "colab_type": "text",
    "id": "view-in-github"
   },
   "source": [
    "<a href=\"https://colab.research.google.com/github/carlosvneves/fiap_techchallenge04/blob/main/TechChallenge04.ipynb\" target=\"_parent\"><img src=\"https://colab.research.google.com/assets/colab-badge.svg\" alt=\"Open In Colab\"/></a>"
   ]
  },
  {
   "cell_type": "code",
   "execution_count": 3,
   "metadata": {
    "ExecuteTime": {
     "end_time": "2024-05-26T22:45:54.607118Z",
     "start_time": "2024-05-26T22:45:54.603261Z"
    }
   },
   "outputs": [],
   "source": [
    "# carregamento de bibliotecas\n",
    "import pandas as pd\n",
    "import numpy as np\n",
    "import matplotlib.pyplot as plt\n",
    "import plotly.express as px\n",
    "import ipeadatapy as ip\n",
    "from os.path import exists\n",
    "\n",
    "from prophet import Prophet\n",
    "import pytimetk as tk\n"
   ]
  },
  {
   "cell_type": "markdown",
   "metadata": {
    "id": "mpLnzJJ6twUg"
   },
   "source": [
    "# Tech Challenge 04 - Alura Pós-Tech/FIAP\n",
    "---\n",
    "\n",
    "Notebook para testes e exploração de ideiais na solução do desafio da fase 04 do curso **Alura Pós-Tech/FIAP**.\n",
    "\n",
    "## Descrição do problema\n",
    "\n",
    "Você foi contratado(a) para uma consultoria, e seu trabalho envolve analisar os dados de preço do petróleo brent, que pode ser encontrado no site do ipea. Essa base de dados histórica envolve duas colunas: data e preço (em dólares).\n",
    "\n",
    "Um grande cliente do segmento pediu para que a consultoria desenvolvesse um dashboard interativo e que gere insights relevantes para tomada de decisão. Além disso, solicitaram que fosse desenvolvido um modelo de Machine Learning para fazer o forecasting do preço do petróleo.\n",
    "\n",
    "Seu objetivo é:\n",
    "\n",
    "- Criar um dashboard interativo com ferramentas à sua escolha.\n",
    "\n",
    "- Seu dashboard deve fazer parte de um storytelling que traga insights relevantes sobre a variação do preço do petróleo, como situações geopolíticas, crises econômicas, demanda global por energia e etc. Isso pode te ajudar com seu modelo. É obrigatório que você traga pelo menos 4 insights neste desafio.\n",
    "\n",
    "- Criar um modelo de Machine Learning que faça a previsão do preço do petróleo diariamente (lembre-se de time series). Esse modelo deve estar contemplado em seu storytelling e deve conter o código que você trabalhou, analisando as performances do modelo.\n",
    "\n",
    "- Criar um plano para fazer o deploy em produção do modelo, com as ferramentas que são necessárias.\n",
    "\n",
    "- Faça um MVP do seu modelo em produção utilizando o Streamlit."
   ]
  },
  {
   "cell_type": "markdown",
   "metadata": {
    "id": "pJi9rr9eu-jZ"
   },
   "source": [
    "# Carrega os dados"
   ]
  },
  {
   "cell_type": "code",
   "execution_count": 19,
   "metadata": {
    "ExecuteTime": {
     "end_time": "2024-05-26T23:55:44.256030Z",
     "start_time": "2024-05-26T23:55:44.236415Z"
    },
    "id": "Z7VArqEeoZTV"
   },
   "outputs": [],
   "source": [
    "# busca os dados do ipeadata ou gravados em arquivo\n",
    "def get_ipea_data():\n",
    "    if not exists(\"data/petr_brent.csv\"):\n",
    "\n",
    "        # baixa os dados do site do ipea\n",
    "        # ip_metadata = ip.metadata()\n",
    "        # busca do código da série de Preço - petróleo bruto - Brent (FOB)\n",
    "        # ip_metadata[ip_metadata[\"NAME\"].str.contains(\"Brent\") == True]\n",
    "\n",
    "        # seleção da série com dados a partir de 2001\n",
    "        petr_brent = ip.timeseries(\"EIA366_PBRENT366\", yearGreaterThan=2001)\n",
    "        petr_brent.to_csv(\"data/petr_brent.csv\")\n",
    "    else:\n",
    "        petr_brent = pd.read_csv(\"data/petr_brent.csv\")\n",
    "\n",
    "    return petr_brent\n",
    "\n",
    "\n",
    "petr_brent = get_ipea_data()\n",
    "petr_brent.head()\n"
   ]
  },
  {
   "cell_type": "code",
   "execution_count": 20,
   "metadata": {
    "ExecuteTime": {
     "end_time": "2024-05-26T23:55:48.585268Z",
     "start_time": "2024-05-26T23:55:48.532587Z"
    },
    "id": "hqhFn5Xyopvm"
   },
   "outputs": [],
   "source": [
    "# gráfico da série temporal\n",
    "px.line(\n",
    "    petr_brent,\n",
    "    x=\"DATE\",\n",
    "    y=\"VALUE (US$)\",\n",
    ")\n"
   ]
  },
  {
   "cell_type": "code",
   "execution_count": 26,
   "metadata": {
    "ExecuteTime": {
     "end_time": "2024-05-26T23:57:31.071056Z",
     "start_time": "2024-05-26T23:57:31.058809Z"
    },
    "colab": {
     "base_uri": "https://localhost:8080/",
     "height": 205
    },
    "id": "VDTT14u2q9ct",
    "outputId": "d076c216-4ad3-48f9-f3a4-4dc2497bc52b"
   },
   "outputs": [],
   "source": [
    "# converte o campo de data para o formato correto\n",
    "petr_brent[\"DATE\"] = pd.to_datetime(petr_brent[\"DATE\"])\n",
    "petr_brent = petr_brent.bfill()\n",
    "petr_brent.info()\n"
   ]
  },
  {
   "cell_type": "markdown",
   "metadata": {},
   "source": [
    "# Análise Exploratória da Série"
   ]
  },
  {
   "cell_type": "code",
   "execution_count": 27,
   "metadata": {
    "ExecuteTime": {
     "end_time": "2024-05-26T23:57:37.126650Z",
     "start_time": "2024-05-26T23:57:37.112024Z"
    },
    "id": "TNqirWu8r_Kz"
   },
   "outputs": [],
   "source": [
    "petr_brent.describe()\n"
   ]
  },
  {
   "cell_type": "markdown",
   "metadata": {},
   "source": [
    "\n",
    "\n",
    "Os seguinte dados são importantes para compreensão da série temporal:\n",
    "\n",
    "- Média:  **US 69.83**\n",
    "- Mediana: **US 66.78**\n",
    "- Mínimo: **US 9.12**\n",
    "- Máximo: **US 143.95**"
   ]
  },
  {
   "cell_type": "markdown",
   "metadata": {},
   "source": [
    "# Análise preliminar \n",
    "\n",
    "- Decomposição\n",
    "- Identificação de Anomalias"
   ]
  },
  {
   "cell_type": "code",
   "execution_count": 28,
   "metadata": {
    "ExecuteTime": {
     "end_time": "2024-05-26T23:57:44.666480Z",
     "start_time": "2024-05-26T23:57:42.748983Z"
    },
    "colab": {
     "base_uri": "https://localhost:8080/",
     "height": 467
    },
    "id": "RCZPTvgewvLg",
    "outputId": "de176358-f344-480e-a790-931b22c4bc9b"
   },
   "outputs": [],
   "source": [
    "anomalize_df = tk.anomalize(\n",
    "    data=petr_brent,\n",
    "    date_column=\"DATE\",\n",
    "    value_column=\"VALUE (US$)\",\n",
    "    # period        = 7,\n",
    "    # iqr_alpha     = 0.05, # using the default\n",
    "    # clean_alpha   = 0.75, # using the default\n",
    "    # clean         = \"min_max\"\n",
    ")\n"
   ]
  },
  {
   "cell_type": "code",
   "execution_count": 29,
   "metadata": {
    "ExecuteTime": {
     "end_time": "2024-05-26T23:57:47.767393Z",
     "start_time": "2024-05-26T23:57:45.709665Z"
    }
   },
   "outputs": [],
   "source": [
    "petr_brent.anomalize(date_column=\"DATE\", value_column=\"VALUE (US$)\")\n"
   ]
  },
  {
   "cell_type": "code",
   "execution_count": 30,
   "metadata": {
    "ExecuteTime": {
     "end_time": "2024-05-26T23:57:52.362930Z",
     "start_time": "2024-05-26T23:57:51.887945Z"
    },
    "colab": {
     "base_uri": "https://localhost:8080/",
     "height": 542
    },
    "id": "chZ_B0_1suia",
    "outputId": "bfabcaf3-907e-4d73-9507-5785080fb5fd"
   },
   "outputs": [],
   "source": [
    "# Plot seasonal decomposition\n",
    "tk.plot_anomalies_decomp(\n",
    "    data=anomalize_df,\n",
    "    date_column=\"DATE\",\n",
    "    engine=\"plotly\",\n",
    "    title=\"Seasonal Decomposition\",\n",
    "    width=1000,\n",
    "    height=800,\n",
    ")\n"
   ]
  },
  {
   "cell_type": "code",
   "execution_count": 31,
   "metadata": {
    "ExecuteTime": {
     "end_time": "2024-05-26T23:57:54.226130Z",
     "start_time": "2024-05-26T23:57:53.786491Z"
    },
    "colab": {
     "base_uri": "https://localhost:8080/",
     "height": 238
    },
    "id": "fDsdVOeIs53I",
    "outputId": "a5cc3d57-7af3-43d3-8d7c-dcd1ce106e24"
   },
   "outputs": [],
   "source": [
    "tk.plot_anomalies(\n",
    "    data=anomalize_df, date_column=\"DATE\", engine=\"plotly\", title=\"Anomalias Detectadas\"\n",
    ")\n"
   ]
  },
  {
   "cell_type": "code",
   "execution_count": 35,
   "metadata": {
    "ExecuteTime": {
     "end_time": "2024-05-26T23:59:29.204168Z",
     "start_time": "2024-05-26T23:59:29.192019Z"
    }
   },
   "outputs": [],
   "source": [
    "anomalies = anomalize_df[anomalize_df[\"anomaly\"] == \"Yes\"]\n",
    "anomalies.info()\n"
   ]
  },
  {
   "cell_type": "code",
   "execution_count": 57,
   "metadata": {
    "ExecuteTime": {
     "end_time": "2024-05-27T00:06:18.852562Z",
     "start_time": "2024-05-27T00:06:18.846564Z"
    }
   },
   "outputs": [],
   "source": [
    "anomalies[\"DATE\"].dt.year.value_counts().sort_index()\n"
   ]
  },
  {
   "cell_type": "code",
   "execution_count": 59,
   "metadata": {
    "ExecuteTime": {
     "end_time": "2024-05-27T00:17:44.470982Z",
     "start_time": "2024-05-27T00:17:44.372522Z"
    }
   },
   "outputs": [],
   "source": [
    "anomalies[\"DATE\"].dt.year.plot(kind=\"hist\", bins=13)\n"
   ]
  },
  {
   "cell_type": "markdown",
   "metadata": {
    "id": "igpuVZ65vhNC"
   },
   "source": [
    "Choques exógenos:\n",
    "- 2008 a 2010: Crise do Subprime\n",
    "- março de 2020 a  maio de 2023: pandemia de Covid-19\n",
    "- fevereiro de 2022: invasão da Ucrânia\n",
    "- 2014-16 Oil Price Collapse "
   ]
  },
  {
   "cell_type": "markdown",
   "metadata": {
    "id": "0_vRIlEKv34z"
   },
   "source": [
    "# Análise Exploratória da Série"
   ]
  },
  {
   "cell_type": "markdown",
   "metadata": {
    "id": "yv8YAO_Wv9Mn"
   },
   "source": [
    "# Modelo de Machine Learning"
   ]
  },
  {
   "cell_type": "code",
   "execution_count": null,
   "metadata": {
    "id": "zKu3BPQmtQmE"
   },
   "outputs": [],
   "source": []
  },
  {
   "cell_type": "markdown",
   "metadata": {},
   "source": [
    "## Reestruturação da rotina de análise exploratória"
   ]
  },
  {
   "cell_type": "code",
   "execution_count": 1,
   "metadata": {},
   "outputs": [],
   "source": [
    "import pandas as pd\n",
    "import ipeadatapy as ip\n",
    "from os.path import exists\n",
    "\n",
    "\n",
    "# get data from ipea or reads from file\n",
    "def get_ipea_data():\n",
    "    if not exists(\"data/petr_brent.csv\"):\n",
    "\n",
    "        # baixa os dados do site do ipea\n",
    "        # ip_metadata = ip.metadata()\n",
    "        # busca do código da série de Preço - petróleo bruto - Brent (FOB)\n",
    "        # ip_metadata[ip_metadata[\"NAME\"].str.contains(\"Brent\") == True]\n",
    "\n",
    "        # seleção da série com dados a partir de 2001\n",
    "        petr_brent = ip.timeseries(\"EIA366_PBRENT366\", yearGreaterThan=2001)\n",
    "        petr_brent.to_csv(\"data/petr_brent.csv\")\n",
    "    else:\n",
    "        petr_brent = pd.read_csv(\"data/petr_brent.csv\")\n",
    "\n",
    "    return petr_brent\n",
    "\n",
    "\n",
    "# load data and fill null values\n",
    "def load_data():\n",
    "\n",
    "    # get data from ipea or reads from file\n",
    "    petr_brent = get_ipea_data()\n",
    "\n",
    "    # convert RAW DATE to datetime\n",
    "    petr_brent[\"DATE\"] = pd.to_datetime(petr_brent[\"DATE\"])\n",
    "\n",
    "    # select only DATE and VALUE (US$)\n",
    "    petr_brent = petr_brent[[\"DATE\", \"VALUE (US$)\"]]\n",
    "\n",
    "    # select the first and last date\n",
    "    start = petr_brent[\"DATE\"].loc[0].date()\n",
    "    end = petr_brent[\"DATE\"].iloc[len(petr_brent) - 1].date()\n",
    "    new_dates = pd.date_range(start=start, end=end, freq=\"D\")\n",
    "\n",
    "    petr_brent = petr_brent.reindex(new_dates)\n",
    "    petr_brent = petr_brent.rename_axis(\"date\")\n",
    "\n",
    "    # fill null values\n",
    "    petr_brent[\"VALUE (US$)\"] = petr_brent[\"VALUE (US$)\"].interpolate().bfill()\n",
    "\n",
    "    # rename columns\n",
    "    petr_brent.columns = [\"price\"]\n",
    "\n",
    "    return petr_brent\n",
    "\n",
    "\n",
    "# calculate descriptive statistics\n",
    "def descriptive_statistics(petr_brent):\n",
    "\n",
    "    # calculate null values\n",
    "    null_sum = petr_brent[\"price\"].isnull().sum()\n",
    "    not_null_sum = len(petr_brent) - null_sum\n",
    "\n",
    "    print(null_sum, not_null_sum)\n",
    "\n",
    "    # calculate descriptive statistics\n",
    "    df_describe = pd.DataFrame({\"price\": petr_brent.describe()[\"price\"]}).reset_index()\n",
    "    df_describe[\"index\"] = [\n",
    "        \"Contagem\",\n",
    "        \"Média\",\n",
    "        \"Desvio Padrão\",\n",
    "        \"Mínimo\",\n",
    "        \"Quantil 25%\",\n",
    "        \"Mediana\",\n",
    "        \"Quantil 75%\",\n",
    "        \"Máximo\",\n",
    "    ]\n",
    "\n",
    "    return df_describe\n"
   ]
  },
  {
   "cell_type": "code",
   "execution_count": 37,
   "metadata": {},
   "outputs": [],
   "source": [
    "# get data from ipea or reads from file\n",
    "petr_brent = get_ipea_data()\n",
    "\n",
    "# convert RAW DATE to datetime\n",
    "petr_brent[\"DATE\"] = pd.to_datetime(petr_brent[\"DATE\"])\n",
    "\n",
    "# select only DATE and VALUE (US$)\n",
    "petr_brent = petr_brent[[\"DATE\", \"VALUE (US$)\"]]\n"
   ]
  },
  {
   "cell_type": "code",
   "execution_count": 38,
   "metadata": {},
   "outputs": [
    {
     "data": {
      "text/html": [
       "<div>\n",
       "<style scoped>\n",
       "    .dataframe tbody tr th:only-of-type {\n",
       "        vertical-align: middle;\n",
       "    }\n",
       "\n",
       "    .dataframe tbody tr th {\n",
       "        vertical-align: top;\n",
       "    }\n",
       "\n",
       "    .dataframe thead th {\n",
       "        text-align: right;\n",
       "    }\n",
       "</style>\n",
       "<table border=\"1\" class=\"dataframe\">\n",
       "  <thead>\n",
       "    <tr style=\"text-align: right;\">\n",
       "      <th></th>\n",
       "      <th>VALUE (US$)</th>\n",
       "    </tr>\n",
       "    <tr>\n",
       "      <th>DATE</th>\n",
       "      <th></th>\n",
       "    </tr>\n",
       "  </thead>\n",
       "  <tbody>\n",
       "    <tr>\n",
       "      <th>2002-01-01</th>\n",
       "      <td>NaN</td>\n",
       "    </tr>\n",
       "    <tr>\n",
       "      <th>2002-01-02</th>\n",
       "      <td>20.13</td>\n",
       "    </tr>\n",
       "    <tr>\n",
       "      <th>2002-01-03</th>\n",
       "      <td>20.47</td>\n",
       "    </tr>\n",
       "    <tr>\n",
       "      <th>2002-01-04</th>\n",
       "      <td>21.20</td>\n",
       "    </tr>\n",
       "    <tr>\n",
       "      <th>2002-01-05</th>\n",
       "      <td>NaN</td>\n",
       "    </tr>\n",
       "  </tbody>\n",
       "</table>\n",
       "</div>"
      ],
      "text/plain": [
       "            VALUE (US$)\n",
       "DATE                   \n",
       "2002-01-01          NaN\n",
       "2002-01-02        20.13\n",
       "2002-01-03        20.47\n",
       "2002-01-04        21.20\n",
       "2002-01-05          NaN"
      ]
     },
     "execution_count": 38,
     "metadata": {},
     "output_type": "execute_result"
    }
   ],
   "source": [
    "petr_brent.set_index(\"DATE\", inplace=True)\n",
    "petr_brent.head()\n"
   ]
  },
  {
   "cell_type": "code",
   "execution_count": 39,
   "metadata": {},
   "outputs": [],
   "source": [
    "# select the first and last date\n",
    "start = petr_brent.index[0].date()\n",
    "end = petr_brent.index[len(petr_brent) - 1].date()\n",
    "new_dates = pd.date_range(start=start, end=end, freq=\"D\")\n"
   ]
  },
  {
   "cell_type": "code",
   "execution_count": 40,
   "metadata": {},
   "outputs": [
    {
     "name": "stdout",
     "output_type": "stream",
     "text": [
      "<class 'pandas.core.frame.DataFrame'>\n",
      "DatetimeIndex: 8169 entries, 2002-01-01 to 2024-05-13\n",
      "Freq: D\n",
      "Data columns (total 1 columns):\n",
      " #   Column  Non-Null Count  Dtype  \n",
      "---  ------  --------------  -----  \n",
      " 0   price   8169 non-null   float64\n",
      "dtypes: float64(1)\n",
      "memory usage: 127.6 KB\n"
     ]
    }
   ],
   "source": [
    "petr_brent = petr_brent.reindex(new_dates)\n",
    "\n",
    "# fill null values\n",
    "petr_brent[\"VALUE (US$)\"] = petr_brent[\"VALUE (US$)\"].interpolate().bfill()\n",
    "\n",
    "\n",
    "# rename columns\n",
    "petr_brent.columns = [\"price\"]\n",
    "petr_brent.info()\n"
   ]
  },
  {
   "cell_type": "code",
   "execution_count": 6,
   "metadata": {},
   "outputs": [
    {
     "ename": "ValueError",
     "evalue": "Length mismatch: Expected axis has 2 elements, new values have 1 elements",
     "output_type": "error",
     "traceback": [
      "\u001B[0;31m---------------------------------------------------------------------------\u001B[0m",
      "\u001B[0;31mValueError\u001B[0m                                Traceback (most recent call last)",
      "\u001B[1;32m/Users/carlosneves/Documents/Projects/fiap/fiap_techchallenge04/TechChallenge04_1.ipynb Cell 28\u001B[0m line \u001B[0;36m9\n\u001B[1;32m      <a href='vscode-notebook-cell:/Users/carlosneves/Documents/Projects/fiap/fiap_techchallenge04/TechChallenge04_1.ipynb#X41sZmlsZQ%3D%3D?line=4'>5</a>\u001B[0m petr_brent[\u001B[39m\"\u001B[39m\u001B[39mVALUE (US$)\u001B[39m\u001B[39m\"\u001B[39m] \u001B[39m=\u001B[39m petr_brent[\u001B[39m\"\u001B[39m\u001B[39mVALUE (US$)\u001B[39m\u001B[39m\"\u001B[39m]\u001B[39m.\u001B[39minterpolate()\u001B[39m.\u001B[39mbfill()\n\u001B[1;32m      <a href='vscode-notebook-cell:/Users/carlosneves/Documents/Projects/fiap/fiap_techchallenge04/TechChallenge04_1.ipynb#X41sZmlsZQ%3D%3D?line=7'>8</a>\u001B[0m \u001B[39m# rename columns\u001B[39;00m\n\u001B[0;32m----> <a href='vscode-notebook-cell:/Users/carlosneves/Documents/Projects/fiap/fiap_techchallenge04/TechChallenge04_1.ipynb#X41sZmlsZQ%3D%3D?line=8'>9</a>\u001B[0m petr_brent\u001B[39m.\u001B[39;49mcolumns \u001B[39m=\u001B[39m [\u001B[39m'\u001B[39m\u001B[39mprice\u001B[39m\u001B[39m'\u001B[39m]\n",
      "File \u001B[0;32m~/Documents/Projects/fiap/fiap_techchallenge04/.venv/lib/python3.11/site-packages/pandas/core/generic.py:6218\u001B[0m, in \u001B[0;36mNDFrame.__setattr__\u001B[0;34m(self, name, value)\u001B[0m\n\u001B[1;32m   6216\u001B[0m \u001B[39mtry\u001B[39;00m:\n\u001B[1;32m   6217\u001B[0m     \u001B[39mobject\u001B[39m\u001B[39m.\u001B[39m\u001B[39m__getattribute__\u001B[39m(\u001B[39mself\u001B[39m, name)\n\u001B[0;32m-> 6218\u001B[0m     \u001B[39mreturn\u001B[39;00m \u001B[39mobject\u001B[39;49m\u001B[39m.\u001B[39;49m\u001B[39m__setattr__\u001B[39;49m(\u001B[39mself\u001B[39;49m, name, value)\n\u001B[1;32m   6219\u001B[0m \u001B[39mexcept\u001B[39;00m \u001B[39mAttributeError\u001B[39;00m:\n\u001B[1;32m   6220\u001B[0m     \u001B[39mpass\u001B[39;00m\n",
      "File \u001B[0;32mproperties.pyx:69\u001B[0m, in \u001B[0;36mpandas._libs.properties.AxisProperty.__set__\u001B[0;34m()\u001B[0m\n",
      "File \u001B[0;32m~/Documents/Projects/fiap/fiap_techchallenge04/.venv/lib/python3.11/site-packages/pandas/core/generic.py:767\u001B[0m, in \u001B[0;36mNDFrame._set_axis\u001B[0;34m(self, axis, labels)\u001B[0m\n\u001B[1;32m    762\u001B[0m \u001B[39m\u001B[39m\u001B[39m\"\"\"\u001B[39;00m\n\u001B[1;32m    763\u001B[0m \u001B[39mThis is called from the cython code when we set the `index` attribute\u001B[39;00m\n\u001B[1;32m    764\u001B[0m \u001B[39mdirectly, e.g. `series.index = [1, 2, 3]`.\u001B[39;00m\n\u001B[1;32m    765\u001B[0m \u001B[39m\"\"\"\u001B[39;00m\n\u001B[1;32m    766\u001B[0m labels \u001B[39m=\u001B[39m ensure_index(labels)\n\u001B[0;32m--> 767\u001B[0m \u001B[39mself\u001B[39;49m\u001B[39m.\u001B[39;49m_mgr\u001B[39m.\u001B[39;49mset_axis(axis, labels)\n\u001B[1;32m    768\u001B[0m \u001B[39mself\u001B[39m\u001B[39m.\u001B[39m_clear_item_cache()\n",
      "File \u001B[0;32m~/Documents/Projects/fiap/fiap_techchallenge04/.venv/lib/python3.11/site-packages/pandas/core/internals/managers.py:227\u001B[0m, in \u001B[0;36mBaseBlockManager.set_axis\u001B[0;34m(self, axis, new_labels)\u001B[0m\n\u001B[1;32m    225\u001B[0m \u001B[39mdef\u001B[39;00m \u001B[39mset_axis\u001B[39m(\u001B[39mself\u001B[39m, axis: AxisInt, new_labels: Index) \u001B[39m-\u001B[39m\u001B[39m>\u001B[39m \u001B[39mNone\u001B[39;00m:\n\u001B[1;32m    226\u001B[0m     \u001B[39m# Caller is responsible for ensuring we have an Index object.\u001B[39;00m\n\u001B[0;32m--> 227\u001B[0m     \u001B[39mself\u001B[39;49m\u001B[39m.\u001B[39;49m_validate_set_axis(axis, new_labels)\n\u001B[1;32m    228\u001B[0m     \u001B[39mself\u001B[39m\u001B[39m.\u001B[39maxes[axis] \u001B[39m=\u001B[39m new_labels\n",
      "File \u001B[0;32m~/Documents/Projects/fiap/fiap_techchallenge04/.venv/lib/python3.11/site-packages/pandas/core/internals/base.py:85\u001B[0m, in \u001B[0;36mDataManager._validate_set_axis\u001B[0;34m(self, axis, new_labels)\u001B[0m\n\u001B[1;32m     82\u001B[0m     \u001B[39mpass\u001B[39;00m\n\u001B[1;32m     84\u001B[0m \u001B[39melif\u001B[39;00m new_len \u001B[39m!=\u001B[39m old_len:\n\u001B[0;32m---> 85\u001B[0m     \u001B[39mraise\u001B[39;00m \u001B[39mValueError\u001B[39;00m(\n\u001B[1;32m     86\u001B[0m         \u001B[39mf\u001B[39m\u001B[39m\"\u001B[39m\u001B[39mLength mismatch: Expected axis has \u001B[39m\u001B[39m{\u001B[39;00mold_len\u001B[39m}\u001B[39;00m\u001B[39m elements, new \u001B[39m\u001B[39m\"\u001B[39m\n\u001B[1;32m     87\u001B[0m         \u001B[39mf\u001B[39m\u001B[39m\"\u001B[39m\u001B[39mvalues have \u001B[39m\u001B[39m{\u001B[39;00mnew_len\u001B[39m}\u001B[39;00m\u001B[39m elements\u001B[39m\u001B[39m\"\u001B[39m\n\u001B[1;32m     88\u001B[0m     )\n",
      "\u001B[0;31mValueError\u001B[0m: Length mismatch: Expected axis has 2 elements, new values have 1 elements"
     ]
    }
   ],
   "source": []
  },
  {
   "cell_type": "code",
   "execution_count": null,
   "metadata": {},
   "outputs": [],
   "source": []
  }
 ],
 "metadata": {
  "colab": {
   "authorship_tag": "ABX9TyPOPwH3RRHvhjDMbiuajHK8",
   "include_colab_link": true,
   "provenance": [],
   "toc_visible": true
  },
  "kernelspec": {
   "display_name": "Python 3 (ipykernel)",
   "language": "python",
   "name": "python3"
  },
  "language_info": {
   "codemirror_mode": {
    "name": "ipython",
    "version": 3
   },
   "file_extension": ".py",
   "mimetype": "text/x-python",
   "name": "python",
   "nbconvert_exporter": "python",
   "pygments_lexer": "ipython3",
   "version": "3.11.9"
  }
 },
 "nbformat": 4,
 "nbformat_minor": 0
}
