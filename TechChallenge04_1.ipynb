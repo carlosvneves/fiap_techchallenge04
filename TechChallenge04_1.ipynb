{
 "nbformat": 4,
 "nbformat_minor": 0,
 "metadata": {
  "colab": {
   "provenance": [],
   "toc_visible": true,
   "authorship_tag": "ABX9TyPOPwH3RRHvhjDMbiuajHK8",
   "include_colab_link": true
  },
  "kernelspec": {
   "name": "python3",
   "display_name": "Python 3 (ipykernel)",
   "language": "python"
  },
  "language_info": {
   "name": "python"
  }
 },
 "cells": [
  {
   "cell_type": "markdown",
   "metadata": {
    "id": "view-in-github",
    "colab_type": "text"
   },
   "source": [
    "<a href=\"https://colab.research.google.com/github/carlosvneves/fiap_techchallenge04/blob/main/TechChallenge04.ipynb\" target=\"_parent\"><img src=\"https://colab.research.google.com/assets/colab-badge.svg\" alt=\"Open In Colab\"/></a>"
   ]
  },
  {
   "metadata": {
    "ExecuteTime": {
     "end_time": "2024-05-26T22:45:54.607118Z",
     "start_time": "2024-05-26T22:45:54.603261Z"
    }
   },
   "cell_type": "code",
   "source": [
    "# carregamento de bibliotecas\n",
    "import pandas as pd\n",
    "import numpy as np\n",
    "import matplotlib.pyplot as plt\n",
    "import plotly.express as px\n",
    "import ipeadatapy as ip\n",
    "from os.path import exists\n",
    "\n",
    "from prophet import Prophet\n",
    "import pytimetk as tk"
   ],
   "execution_count": 3,
   "outputs": []
  },
  {
   "cell_type": "markdown",
   "source": [
    "# Tech Challenge 04 - Alura Pós-Tech/FIAP\n",
    "---\n",
    "\n",
    "Notebook para testes e exploração de ideiais na solução do desafio da fase 04 do curso **Alura Pós-Tech/FIAP**.\n",
    "\n",
    "## Descrição do problema\n",
    "\n",
    "Você foi contratado(a) para uma consultoria, e seu trabalho envolve analisar os dados de preço do petróleo brent, que pode ser encontrado no site do ipea. Essa base de dados histórica envolve duas colunas: data e preço (em dólares).\n",
    "\n",
    "Um grande cliente do segmento pediu para que a consultoria desenvolvesse um dashboard interativo e que gere insights relevantes para tomada de decisão. Além disso, solicitaram que fosse desenvolvido um modelo de Machine Learning para fazer o forecasting do preço do petróleo.\n",
    "\n",
    "Seu objetivo é:\n",
    "\n",
    "- Criar um dashboard interativo com ferramentas à sua escolha.\n",
    "\n",
    "- Seu dashboard deve fazer parte de um storytelling que traga insights relevantes sobre a variação do preço do petróleo, como situações geopolíticas, crises econômicas, demanda global por energia e etc. Isso pode te ajudar com seu modelo. É obrigatório que você traga pelo menos 4 insights neste desafio.\n",
    "\n",
    "- Criar um modelo de Machine Learning que faça a previsão do preço do petróleo diariamente (lembre-se de time series). Esse modelo deve estar contemplado em seu storytelling e deve conter o código que você trabalhou, analisando as performances do modelo.\n",
    "\n",
    "- Criar um plano para fazer o deploy em produção do modelo, com as ferramentas que são necessárias.\n",
    "\n",
    "- Faça um MVP do seu modelo em produção utilizando o Streamlit."
   ],
   "metadata": {
    "id": "mpLnzJJ6twUg"
   }
  },
  {
   "cell_type": "markdown",
   "source": "# Carrega os dados",
   "metadata": {
    "id": "pJi9rr9eu-jZ"
   }
  },
  {
   "cell_type": "code",
   "source": [
    "# busca os dados do ipeadata ou gravados em arquivo\n",
    "def get_ipea_data():\n",
    "  if not exists('data/petr_brent.csv'):\n",
    "\n",
    "    # baixa os dados do site do ipea\n",
    "    #ip_metadata = ip.metadata()\n",
    "    # busca do código da série de Preço - petróleo bruto - Brent (FOB)\n",
    "    #ip_metadata[ip_metadata[\"NAME\"].str.contains(\"Brent\") == True]\n",
    "\n",
    "    # seleção da série com dados a partir de 2001\n",
    "    petr_brent = ip.timeseries(\"EIA366_PBRENT366\", yearGreaterThan=2001)\n",
    "    petr_brent.to_csv('data/petr_brent.csv')\n",
    "  else:\n",
    "    petr_brent = pd.read_csv('data/petr_brent.csv')\n",
    "\n",
    "  return petr_brent\n",
    "\n",
    "petr_brent = get_ipea_data()\n",
    "petr_brent.head()"
   ],
   "metadata": {
    "id": "Z7VArqEeoZTV",
    "ExecuteTime": {
     "end_time": "2024-05-26T23:55:44.256030Z",
     "start_time": "2024-05-26T23:55:44.236415Z"
    }
   },
   "execution_count": 19,
   "outputs": []
  },
  {
   "cell_type": "code",
   "source": [
    "# gráfico da série temporal\n",
    "px.line(petr_brent,\n",
    "  x = 'DATE',\n",
    "  y = 'VALUE (US$)',\n",
    ")"
   ],
   "metadata": {
    "id": "hqhFn5Xyopvm",
    "ExecuteTime": {
     "end_time": "2024-05-26T23:55:48.585268Z",
     "start_time": "2024-05-26T23:55:48.532587Z"
    }
   },
   "execution_count": 20,
   "outputs": []
  },
  {
   "cell_type": "code",
   "source": [
    "# converte o campo de data para o formato correto\n",
    "petr_brent['DATE'] = pd.to_datetime(petr_brent['DATE'])\n",
    "petr_brent = petr_brent.bfill()\n",
    "petr_brent.info()"
   ],
   "metadata": {
    "colab": {
     "base_uri": "https://localhost:8080/",
     "height": 205
    },
    "id": "VDTT14u2q9ct",
    "outputId": "d076c216-4ad3-48f9-f3a4-4dc2497bc52b",
    "ExecuteTime": {
     "end_time": "2024-05-26T23:57:31.071056Z",
     "start_time": "2024-05-26T23:57:31.058809Z"
    }
   },
   "execution_count": 26,
   "outputs": []
  },
  {
   "metadata": {},
   "cell_type": "markdown",
   "source": "# Análise Exploratória da Série"
  },
  {
   "cell_type": "code",
   "source": "petr_brent.describe()",
   "metadata": {
    "id": "TNqirWu8r_Kz",
    "ExecuteTime": {
     "end_time": "2024-05-26T23:57:37.126650Z",
     "start_time": "2024-05-26T23:57:37.112024Z"
    }
   },
   "execution_count": 27,
   "outputs": []
  },
  {
   "metadata": {},
   "cell_type": "markdown",
   "source": [
    "\n",
    "\n",
    "Os seguinte dados são importantes para compreensão da série temporal:\n",
    "\n",
    "- Média:  **US 69.83**\n",
    "- Mediana: **US 66.78**\n",
    "- Mínimo: **US 9.12**\n",
    "- Máximo: **US 143.95**"
   ]
  },
  {
   "metadata": {},
   "cell_type": "markdown",
   "source": [
    "# Análise preliminar \n",
    "\n",
    "- Decomposição\n",
    "- Identificação de Anomalias"
   ]
  },
  {
   "cell_type": "code",
   "source": [
    "anomalize_df =  tk.anomalize(\n",
    "  data          = petr_brent,\n",
    "  date_column   = 'DATE',\n",
    "  value_column  = 'VALUE (US$)',\n",
    "  #period        = 7,\n",
    "  #iqr_alpha     = 0.05, # using the default\n",
    "  #clean_alpha   = 0.75, # using the default\n",
    "  #clean         = \"min_max\"\n",
    ")"
   ],
   "metadata": {
    "colab": {
     "base_uri": "https://localhost:8080/",
     "height": 467
    },
    "id": "RCZPTvgewvLg",
    "outputId": "de176358-f344-480e-a790-931b22c4bc9b",
    "ExecuteTime": {
     "end_time": "2024-05-26T23:57:44.666480Z",
     "start_time": "2024-05-26T23:57:42.748983Z"
    }
   },
   "execution_count": 28,
   "outputs": []
  },
  {
   "metadata": {
    "ExecuteTime": {
     "end_time": "2024-05-26T23:57:47.767393Z",
     "start_time": "2024-05-26T23:57:45.709665Z"
    }
   },
   "cell_type": "code",
   "source": "petr_brent.anomalize(date_column='DATE', value_column='VALUE (US$)')",
   "execution_count": 29,
   "outputs": []
  },
  {
   "cell_type": "code",
   "source": [
    "# Plot seasonal decomposition\n",
    "tk.plot_anomalies_decomp(\n",
    "    data        = anomalize_df,\n",
    "    date_column = 'DATE',\n",
    "    engine      = 'plotly',\n",
    "    title       = 'Seasonal Decomposition',\n",
    "  width=1000,\n",
    "  height=800,\n",
    "  )"
   ],
   "metadata": {
    "colab": {
     "base_uri": "https://localhost:8080/",
     "height": 542
    },
    "id": "chZ_B0_1suia",
    "outputId": "bfabcaf3-907e-4d73-9507-5785080fb5fd",
    "ExecuteTime": {
     "end_time": "2024-05-26T23:57:52.362930Z",
     "start_time": "2024-05-26T23:57:51.887945Z"
    }
   },
   "execution_count": 30,
   "outputs": []
  },
  {
   "cell_type": "code",
   "source": [
    "tk.plot_anomalies(\n",
    "  data        = anomalize_df,\n",
    "  date_column = 'DATE',\n",
    "  engine      = 'plotly',\n",
    "  title       = 'Anomalias Detectadas'\n",
    ")"
   ],
   "metadata": {
    "colab": {
     "base_uri": "https://localhost:8080/",
     "height": 238
    },
    "id": "fDsdVOeIs53I",
    "outputId": "a5cc3d57-7af3-43d3-8d7c-dcd1ce106e24",
    "ExecuteTime": {
     "end_time": "2024-05-26T23:57:54.226130Z",
     "start_time": "2024-05-26T23:57:53.786491Z"
    }
   },
   "execution_count": 31,
   "outputs": []
  },
  {
   "metadata": {
    "ExecuteTime": {
     "end_time": "2024-05-26T23:59:29.204168Z",
     "start_time": "2024-05-26T23:59:29.192019Z"
    }
   },
   "cell_type": "code",
   "source": [
    "anomalies = anomalize_df[anomalize_df['anomaly'] == 'Yes']\n",
    "anomalies.info()"
   ],
   "execution_count": 35,
   "outputs": []
  },
  {
   "metadata": {
    "ExecuteTime": {
     "end_time": "2024-05-27T00:06:18.852562Z",
     "start_time": "2024-05-27T00:06:18.846564Z"
    }
   },
   "cell_type": "code",
   "source": "anomalies['DATE'].dt.year.value_counts().sort_index()\n",
   "execution_count": 57,
   "outputs": []
  },
  {
   "metadata": {
    "ExecuteTime": {
     "end_time": "2024-05-27T00:17:44.470982Z",
     "start_time": "2024-05-27T00:17:44.372522Z"
    }
   },
   "cell_type": "code",
   "source": "anomalies['DATE'].dt.year.plot(kind='hist', bins=13)",
   "execution_count": 59,
   "outputs": []
  },
  {
   "cell_type": "markdown",
   "source": [
    "Choques exógenos:\n",
    "- 2008 a 2010: Crise do Subprime\n",
    "- março de 2020 a  maio de 2023: pandemia de Covid-19\n",
    "- fevereiro de 2022: invasão da Ucrânia\n",
    "- 2014-16 Oil Price Collapse "
   ],
   "metadata": {
    "id": "igpuVZ65vhNC"
   }
  },
  {
   "cell_type": "markdown",
   "source": [
    "# Análise Exploratória da Série"
   ],
   "metadata": {
    "id": "0_vRIlEKv34z"
   }
  },
  {
   "cell_type": "markdown",
   "source": [
    "# Modelo de Machine Learning"
   ],
   "metadata": {
    "id": "yv8YAO_Wv9Mn"
   }
  },
  {
   "cell_type": "code",
   "source": [],
   "metadata": {
    "id": "zKu3BPQmtQmE"
   },
   "execution_count": null,
   "outputs": []
  }
 ]
}
